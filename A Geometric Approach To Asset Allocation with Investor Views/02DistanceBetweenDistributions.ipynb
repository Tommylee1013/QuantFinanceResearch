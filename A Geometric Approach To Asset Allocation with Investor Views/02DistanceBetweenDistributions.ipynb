{
 "cells": [
  {
   "metadata": {},
   "cell_type": "markdown",
   "source": [
    "### Distance Between Distributions\n",
    "\n",
    "이 장에서는 투자자의 견해를 통합하기 위한 대안적인 접근법을 제공한다. 특히, view와 reference distribution의 Generalized Wasserstein Barycentre(GWB)와 같이 view가 존재하는 경우의 추정된 drift(또는 수익) 분포를 구한다. 이 절의 초점은 GWB의 개념을 소개하고 자산 배분에 대한 관련성을 논의하는 것이다.\n",
    "다음에서 prior distribution은 추정된 drift의 분포 또는 자산 수익률의 분포를 의미할 수 있다. 사전을 추정된 drift라고 가정하면, view는 drift에 표현되고 다른 하나의 모델에서는 뷰가 직접적으로 자산 수익률에 표현된다. 그런 다음 변수의 간단한 매핑 및 이름 변경으로 BL Model-I 및 BL Model-II와 유사한 기하학적 방법을 도출할 수 있다.\n",
    "\n",
    "우리는 view들의 \"근접성\"을 유지하면서 prior(또는 reference) 분포인 $f_P$에 가능한 한 \"근접성\"을 갖는 목표 또는 업데이트된 분포 $f_U$를 찾는 데 관심이 있다. 분포들 간의 \"근접성\"은 분포들 간의 상이성 개념을 도입함으로써 정의될 수 있다. 그리고 나서 현재 접근법의 목표는 수학적으로 다음과 같이 다시 쓸 수 있다.\n",
    "\n",
    "$$\\left( \\mathscr{m}_*, \\mathscr{C}_*\\right) \\arg \\min_{\\mathscr{m}_U, \\mathscr{C}_U} \\text{Diss}(f_U, f_P) \\text{   subject to   } \\text{Diss} \\left( \\mathscr{P}_# \\left[ f_U\\right], f_{\\mathcal{V}}\\right)$$\n",
    "\n",
    "여기서 $\\text{Diss}(A,B)$는 분포 A와 B 사이의 상이성에 대한 일반적인 측도를 나타내고, $\\mathscr{P}_# \\left[ f_U\\right]$는 map을 따라 view 공간에 대한 \"업데이트\" 측도의 push-forward를 나타낸다. 우리는 제약된 형태의 최적화 문제를 다음과 같이 라그랑지안 형태로 수정할 수 있다.\n",
    "\n",
    "$$\\left( \\mathscr{m}_*, \\mathscr{C}_* \\right) = \\arg \\min_{\\mathscr{m}_U, \\mathscr{C}_U} \\left[ \\left( \n",
    "\\text{Diss}\\left( f_U, f_P \\right) + \\lambda \\text{Diss}\\left( \\mathscr{P}_# \\left[ f_U\\right], f_{\\mathcal{V}} \\right)\n",
    "\\right)\\right]$$\n",
    "\n",
    "여기서 $\\lambda$는 제약조건 $\\text{Diss} \\left( \\mathscr{P}_# \\left[ f_U\\right], f_{\\mathcal{V}}\\right)$을 비용함수의 항으로 바꾸는 튜닝 파라미터의 역할을 하는 라그랑주 승수이다. BL 모형에 대한 비유사성 또는 거리 기반 접근법은 이전에 A. Meucci, D. Ardia, & M. Colasante(2014)와 J. Duraj,& C. Yu(2021))에서 나타났음을 지적하고자 한다.\n",
    "\n",
    "두번째 식에 명시된 최적화 문제는 라그랑지안 형태이고 첫번째 식의 문제는 Constrained Optimization Problem(COP)이다. 라그랑지안 형태와 COP 형태의 동등성은 비유사성이 정의된 모든 분포 A와 B에 대해 Slater 조건이 만족되도록 비유사성 메트릭 $\\text{Diss}$를 선택함으로써 보장될 수 있다. 두 번째 식의 문제는 비유사성 측도가 아직 특정되지 않았기 때문에 상당히 추상적이다. 이 장에서는 비유사성 측도로서 Fréchét 또는 $L_2$-Wasserstein 거리를 고려할 것이다. $L_2$-Wasserstein 거리는 확률 공간에 대한 측도를 유도한다. 두 번째 식의 문제는 다음 라그랑지안의 최소화로 나타낼 수 있다.\n",
    "\n",
    "$$\\mathscr{L}_{\\text{GWB}} = \\left( \\mathcal{D}_{\\text{WD}}\\left( f_U, f_P \\right) + \\lambda \\mathcal{D}_{\\text{WD}} \\left( \\mathscr{P}_# [f_U], f_{\\mathcal{V}}\\right)\\right)$$\n",
    "\n",
    "위 최소화 문제는 J. Delon, N. Gozlan & A. Saint-Dizier(2021)에서 쓰인 $\\lambda = \\frac{t}{1-t}$와 $t \\in [0, 1)$ 에서 $1 - t$로부터의 $\\mathscr{L}_{\\text{GWB}}$에서 Generalized Wassertein Barycenters (GWB)를 계산한 것과 같다. J. Delon, N. Gozlan & A. Saint-Dizier(2021)에서, 저자들은 two centre보다 더 많은 상황에서의 GWB을 찾는것에 대한 문제를 고려했다. 두 가우시안 분포의 GWB에 대한 분석식을 얻을 수 있으며 McCann interpolant의 일반화임을 보여줄 것이다(R. J. McCann, 1997). 후에 다룰 식의 문제는 수익률과 보기의 다른 분포로 일반화될 수 있다. view들은 선형일 필요가 없는 임의의 map $\\mathscr{P}$를 통해 규정될 수도 있다. 그러나 우리는 $\\mathscr{P}$가 Linear일 때의 Gaussian인 경우에만 해를 유도할 수 있었다. 이와 다른 경우에는, 수치적인 집근이 필요하다.\n",
    "\n",
    "다음 장에서는 Gaussian distribution에 특화된 문제를 제시한다."
   ],
   "id": "7ca43c7634ea4d66"
  }
 ],
 "metadata": {
  "kernelspec": {
   "display_name": "Python 3",
   "language": "python",
   "name": "python3"
  },
  "language_info": {
   "codemirror_mode": {
    "name": "ipython",
    "version": 2
   },
   "file_extension": ".py",
   "mimetype": "text/x-python",
   "name": "python",
   "nbconvert_exporter": "python",
   "pygments_lexer": "ipython2",
   "version": "2.7.6"
  }
 },
 "nbformat": 4,
 "nbformat_minor": 5
}
