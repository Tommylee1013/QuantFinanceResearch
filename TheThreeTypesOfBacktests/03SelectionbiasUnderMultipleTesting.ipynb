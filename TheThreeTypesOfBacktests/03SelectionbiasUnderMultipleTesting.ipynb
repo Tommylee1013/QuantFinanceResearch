{
 "cells": [
  {
   "metadata": {},
   "cell_type": "markdown",
   "source": [
    "### Selection Bias Under Multiple Testing\n",
    "\n",
    "이 절에서는 다음의 수치 예제를 사용해 다중 검정($\\text{SBuMT}$)하에서 선택 편향의 위험성을 자세히 살펴본다. 한 연구자가 분석을 마치고 'Promising' Trading Strategy를 매니저에게 보고했다고 가정해 보자. 백테스트는 연율화된 Sharpe Ratio가 약 1이고, 연율화된 실현 변동성이 약 15%임을 보여준다. 백테스트는 지난 5년간의 일일 수익률을 산출물로 제공하므로, 관측치의 수는 $T = 5 \\times 252 = 1260$이다.\n",
    "\n",
    "PM은 이 발견이 통계적으로 얼마나 유의한지 평가하려고 한다. 그들은 Sharpe Ratio의 \"참값\"이 주어지면, 실현된 Sharpe Ratio는 참값 근처 어딘가에 있을 수 있으며, 정규 분포(Bailey and Lopez de Prado 2012)에 의해 정의된 확률과 다음과 같은 표준 편차가 주어진다.\n",
    "\n",
    "$$\\sigma_{\\text{SR}} = \\sqrt{\\frac{1}{T} \\left( \n",
    "1 - \\gamma_3 \\text{SR} + \\frac{\\gamma_4 - 1}{4} \\text{SR}^2\n",
    "\\right)}$$"
   ],
   "id": "4e6d5c4604191591"
  }
 ],
 "metadata": {
  "kernelspec": {
   "display_name": "Python 3",
   "language": "python",
   "name": "python3"
  },
  "language_info": {
   "codemirror_mode": {
    "name": "ipython",
    "version": 2
   },
   "file_extension": ".py",
   "mimetype": "text/x-python",
   "name": "python",
   "nbconvert_exporter": "python",
   "pygments_lexer": "ipython2",
   "version": "2.7.6"
  }
 },
 "nbformat": 4,
 "nbformat_minor": 5
}
