{
 "cells": [
  {
   "metadata": {},
   "cell_type": "markdown",
   "source": [
    "### Enhancing The Quality of Historical Simulations\n",
    "\n",
    "이 섹션에서는 데이터 품질, 데이터 대표성, 통계 무결성, 모델링 및 일반화, 비용 및 제약 조건, 성능 평가 등의 과제를 제시하는 것으로 알려진 6가지 영역에 초점을 맞추어 백테스트의 품질을 높이는 방법에 대해 논의한다."
   ],
   "id": "55d192b0251f29ed"
  },
  {
   "metadata": {},
   "cell_type": "markdown",
   "source": [
    "#### Data Quality\n",
    "\n",
    "##### 1. Survivorship Bias\n",
    "\n",
    "역사적으로 생존한 증권들에 대해서만 분석을 수행하고 그렇지 않은 데이터는 무시할 때 발생하는 선택 편향을 Survivorship Bias라고 정의한다. 일반적으로 상장폐지되거나 거래정지된 증권은 생존하여 거래가 지속되는 증권과 중요한 차이가 있기 때문에 이러한 편향은 왜곡된 결과를 초래하고 잘못된 결론을 도출할 수 있다. \n",
    "\n",
    "Surivorship Bias의 영향은 특히 Mutual Funds 및 Hedge Funds 성과 분석과 투자 전략에서 두드러진다. 예를 들어, 기간 말에 여전히 활동 중인 펀드만 포함하면 가장 실적이 좋지 않은 펀드들이 폐업하고 보고되지 않기 때문에 펀드 성과들을 크게 과대평가할 수 있다."
   ],
   "id": "cd0ee8cd26636d2f"
  },
  {
   "metadata": {},
   "cell_type": "markdown",
   "source": [
    "##### 2. Point-in-Time Considerations and Restated Data\n",
    "\n",
    "Point in time은 분석이나 백테스팅에 사용된 데이터가 해당 시점에 연구자가 사용할 수 있었을 정보를 반영하였는지 확인하는 것을 의미한다. 이는 특히 오류, 회계 변경 또는 새로운 회계 기준 준수로 인해 수익 혹은 기타 재무 지표와 같이 이전에 보고된 재무 수치에 대한 조정이 포함된 조정된 데이터와 같은 경우와 관련이 있다. 재작성은 과거 재무제표를 크게 변경하여 재무 분석의 정확성과 해당 재무제표에 의존하는 모델에 영향을 미칠 수 있다. 실무자의 경우 재작성된 데이터를 신중하게 관리하는 것이 필수적이며, 이는 종종 사후에 수정되거나 조정되지 않고 원래 보고된 대로 재무 데이터를 사용하기 위해 그 당시에 가용 가능했던 데이터베이스를 사용하는 것을 의미한다."
   ],
   "id": "76739ad7f82a355"
  },
  {
   "metadata": {},
   "cell_type": "markdown",
   "source": [
    "##### 3. Incorrect and Missing Data\n",
    "\n",
    "Incorrect data는 데이터 세트의 모든 오류 또는 부정확성이다. 이러한 부정확성은 데이터 입력 오류, 데이터 수집 방법의 문제 또는 데이터 전송 문제와 같은 다양한 원에서 비롯될 수 있다. 분석 전에 데이터를 철저히 관리해야 한다. 여기에는 오류를 확인하고, 수정하고, 데이터 세트 간 일관성을 보장하며, 신뢰할 수 있는 출처에 대해 데이터 정확성을 확인하는 것을 포함한다.\n",
    "\n",
    "Missing data는 데이터 세트에 정보가 없는 것을 의미한다. 이는 시스템 오류, 데이터 손상 또는 데이터가 기록되거나 수집되지 않은 경우와 같은 다양한 이유로 발생할 수 있다. 누락된 값은 평균값 보간, 회귀모형을 사용한 보간과 같은 다양한 통계 기법 또는 MIDAS, ML 기반 접근법과 같은 보다 정교한 방법을 사용하여 보간할 수 있다. 맥락에 따라서는 보간을 통해 복잡성이 증가하는 것을 피하기 위해 `ffill()`과 같은 순방향 보간법이 좋은 선택이 될 수 있다. 경우에 따라 누락된 데이터는 대체 데이터 소스로부터 보간될 수 있지만, 이 접근법은 대체 데이터의 호환성과 신뢰성을 보장하기 위해 신중한 고려가 필요하다."
   ],
   "id": "b6762b76392a3ff1"
  },
  {
   "metadata": {},
   "cell_type": "markdown",
   "source": [
    "##### 4. Dealing with Outliers\n",
    "\n",
    "투자 전략을 개발할 때에는 데이터 중에서 다른 데이터들에 비해 수치가 크게 벗어나는 극단값, 즉 이상치의 역할을 평가하는 것이 필수적이다. 이상치가 고유하고 반복되지 않는 사건을 나타낼 수 있기 때문에 이러한 희귀한 사건을 활용하는 전략은 지속 불가능할 수 있다. 결과적으로 이러한 이상치에 의존하면, 특정 조건에서는 예외적으로 잘 수행되지만 다양한 시장 환경에서 일반화되지 못하는 전략을 만들 수 있다.\n",
    "\n",
    "Linear Regression과 같이 이상치에 본질적으로 민감한 모형을 통합할 때에는 이러한 극단적인 데이터 포인트의 특성과 영향에 주의를 기울여야 한다. 실무자는 이상치가 재무 수치가 잘못 보고되었는지와 같은 데이터 수집 또는 입력의 오류에서 발생한 것인지, 아니면 가치 있는 insight를 제공할 수 있는 실제 시장 현상을 반영하는 것인지 확인해야 한다."
   ],
   "id": "7008aa06debec54a"
  },
  {
   "metadata": {},
   "cell_type": "markdown",
   "source": [
    "#### Data Representativeness\n",
    "\n",
    "Sample Periods Selection Bias는 데이터 대표성 영역에서 가장 중요한 관심사이다. 이러한 유형의 편향은 백테스트를 위해 선택한 시간 영역이 의도치 않게 결과에 영향을 미치면서 다양한 시장 조건 또는 기간에 걸쳐 강건하지 않을 수 있는 결론으로 이어질 때 발생한다. All weather Portfolio 투자 전략을 설계할 때, 최적의 성과를 내는 기간만 포함하는 것이 아니라 광범위한 시장 조건의 데이터를 포함하는 것이 필수적이다(Lopez de Prado, 2019). 이는 다양한 시장 주기에 걸쳐 전략의 견고성을 보장한다. 그러나 Lopez de Prado(2019a)가 설명한 바와 같이, 전술적 투자 전략을 수립할 때 특정 시장 조건에 맞게 설계된 경우 목표 시간 프레임을 선택하는 것이 더 적합할 수 있다. Bailey & Lopez de Prado(2012)가 설명한 Min-Track-Record-Length 알고리즘은 다양한 시장 시나리오에서 전략의 효과를 검증하는 데 필요한 관측치의 개수를 결정하는 데 도움이 될 수 있다."
   ],
   "id": "460118279731a852"
  },
  {
   "metadata": {},
   "cell_type": "markdown",
   "source": [
    "#### Statistical Integrity\n",
    "\n",
    "##### 1. Data Mining and Data Snooping\n",
    "\n",
    "Data Mining과 Data Snooping의 개념은 투자 전략을 개발하는 데 사용할 수 있는 패턴, 관계 및 추세를 식별하기 위해 대규모 데이터 세트를 탐색하는 과정을 의미한다. 이러한 전략 개발 접근 방식은 통계적으로 중요한 것으로 보이는 데이터의 패턴을 찾아내는 데이터 분석 기술의 부적절한 적용을 통해 매우 쉽게 선택 편향을 초래하기 때문에 피해야 한다. Data Snooping(p-value hacking)은 연구자가 의미 있는 결과를 얻을 때까지 데이터의 다양한 하위 집합을 반복적으로 탐색하거나 (가능하면 동일한 데이터에 대해) 수많은 테스트를 수행하는 것을 포함한다(White 2000; Sullivan, Timmermann 및 White 1999).\n",
    "\n",
    "##### 2. Accounting for Selection Bias under Multiple Testing\n",
    "\n",
    "백테스팅은 성능 지표에 discount measure를 적용할 수 있도록 시행 회수와 해당 통계를 고려해야 한다(Lopez de Prado 2018, 2020). 이에 대해서는 다음 절에서 자세히 설명한다."
   ],
   "id": "4ad8cdc2f3117882"
  },
  {
   "metadata": {},
   "cell_type": "markdown",
   "source": [
    "#### Modelling and Generalisation\n",
    "\n",
    "##### 1. Look-Ahead Bias\n",
    "\n",
    "미래의 데이터를 마치 그 때 당시에 사용할 수 있는 데이터처럼 사용하여 투자를 결정하는 실수가 바로 Look ahead Bias이다. 이를 연구 과정 때문에 정의하면서 당시 시점 데이터를 데이터를 사용하지 않는 문제와는 구분한다. 이러한 접근 방식은 투자 전략의 수익성에 대한 성과 지표와 비현실적인 기대를 부풀릴 수 있다. 일반적으로 이 오류는 지표나 신호에 적절한 지연을 적용하지 않음으로써 발생한다. 롤링 계산이 아닌 전체 데이터 샘플에 대한 통계를 계산할 때도 일반적으로 발생한다. 예를 들어 Z-Score의 평균과 표준 편차를 계산하여 신호를 정규화할 때 전체 샘플을 사용하는 것이 있다."
   ],
   "id": "765c76f0b546fb2a"
  },
  {
   "metadata": {},
   "cell_type": "markdown",
   "source": [
    "##### 2. Introducing an Embargo Period\n",
    "\n",
    "통상적으로 Embargo Period는 최근 2~3년간 데이터의 Hold Out 샘플인 테스트 세트를 말한다. 실무자는 In sample을 기반으로 Trading Rule에 대해 모델을 적합시키고 설계 결정을 내려야 하며, 전략이 검증될 준비가 되면 Embargo Period 동안의 결과를 도출할 수 있다. 또한 Train Set에서 악용된 모든 Market Anomaly 현상도 Embargo Period에 존재해야 한다."
   ],
   "id": "dc67365b14da0ec"
  },
  {
   "cell_type": "code",
   "execution_count": null,
   "id": "initial_id",
   "metadata": {
    "collapsed": true
   },
   "outputs": [],
   "source": [
    ""
   ]
  }
 ],
 "metadata": {
  "kernelspec": {
   "display_name": "Python 3",
   "language": "python",
   "name": "python3"
  },
  "language_info": {
   "codemirror_mode": {
    "name": "ipython",
    "version": 2
   },
   "file_extension": ".py",
   "mimetype": "text/x-python",
   "name": "python",
   "nbconvert_exporter": "python",
   "pygments_lexer": "ipython2",
   "version": "2.7.6"
  }
 },
 "nbformat": 4,
 "nbformat_minor": 5
}
